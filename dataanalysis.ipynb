{
 "cells": [
  {
   "cell_type": "markdown",
   "metadata": {},
   "source": [
    "# Data Analysis of Death Penalty - By: Sierra Shaw"
   ]
  },
  {
   "cell_type": "markdown",
   "metadata": {},
   "source": [
    "## Load Dataset"
   ]
  },
  {
   "cell_type": "code",
   "execution_count": 27,
   "metadata": {},
   "outputs": [],
   "source": [
    "import pandas as pd\n",
    "import matplotlib.pyplot as plt\n",
    "import seaborn as sns"
   ]
  },
  {
   "cell_type": "code",
   "execution_count": 2,
   "metadata": {},
   "outputs": [],
   "source": [
    "df = pd.read_csv(\"data/database.csv\")"
   ]
  },
  {
   "cell_type": "markdown",
   "metadata": {},
   "source": [
    "## Overview of Data"
   ]
  },
  {
   "cell_type": "code",
   "execution_count": 3,
   "metadata": {},
   "outputs": [
    {
     "name": "stdout",
     "output_type": "stream",
     "text": [
      "<class 'pandas.core.frame.DataFrame'>\n",
      "RangeIndex: 1442 entries, 0 to 1441\n",
      "Data columns (total 17 columns):\n",
      " #   Column            Non-Null Count  Dtype \n",
      "---  ------            --------------  ----- \n",
      " 0   Date              1442 non-null   object\n",
      " 1   Name              1442 non-null   object\n",
      " 2   Age               1442 non-null   int64 \n",
      " 3   Sex               1442 non-null   object\n",
      " 4   Race              1442 non-null   object\n",
      " 5   Crime             1442 non-null   object\n",
      " 6   Victim Count      1442 non-null   int64 \n",
      " 7   Victim Sex        1437 non-null   object\n",
      " 8   Victim Race       1436 non-null   object\n",
      " 9   County            1440 non-null   object\n",
      " 10  State             1442 non-null   object\n",
      " 11  Region            1442 non-null   object\n",
      " 12  Method            1442 non-null   object\n",
      " 13  Juvenile          1442 non-null   object\n",
      " 14  Volunteer         1442 non-null   object\n",
      " 15  Federal           1442 non-null   object\n",
      " 16  Foreign National  1442 non-null   object\n",
      "dtypes: int64(2), object(15)\n",
      "memory usage: 191.6+ KB\n"
     ]
    }
   ],
   "source": [
    "df.info()"
   ]
  },
  {
   "cell_type": "code",
   "execution_count": 5,
   "metadata": {},
   "outputs": [
    {
     "data": {
      "text/html": [
       "<div>\n",
       "<style scoped>\n",
       "    .dataframe tbody tr th:only-of-type {\n",
       "        vertical-align: middle;\n",
       "    }\n",
       "\n",
       "    .dataframe tbody tr th {\n",
       "        vertical-align: top;\n",
       "    }\n",
       "\n",
       "    .dataframe thead th {\n",
       "        text-align: right;\n",
       "    }\n",
       "</style>\n",
       "<table border=\"1\" class=\"dataframe\">\n",
       "  <thead>\n",
       "    <tr style=\"text-align: right;\">\n",
       "      <th></th>\n",
       "      <th>Date</th>\n",
       "      <th>Name</th>\n",
       "      <th>Age</th>\n",
       "      <th>Sex</th>\n",
       "      <th>Race</th>\n",
       "      <th>Crime</th>\n",
       "      <th>Victim Count</th>\n",
       "      <th>Victim Sex</th>\n",
       "      <th>Victim Race</th>\n",
       "      <th>County</th>\n",
       "      <th>State</th>\n",
       "      <th>Region</th>\n",
       "      <th>Method</th>\n",
       "      <th>Juvenile</th>\n",
       "      <th>Volunteer</th>\n",
       "      <th>Federal</th>\n",
       "      <th>Foreign National</th>\n",
       "    </tr>\n",
       "  </thead>\n",
       "  <tbody>\n",
       "    <tr>\n",
       "      <th>0</th>\n",
       "      <td>01/17/1977</td>\n",
       "      <td>Gary Gilmore</td>\n",
       "      <td>36</td>\n",
       "      <td>Male</td>\n",
       "      <td>White</td>\n",
       "      <td>Murder</td>\n",
       "      <td>1</td>\n",
       "      <td>Male</td>\n",
       "      <td>White</td>\n",
       "      <td>Utah</td>\n",
       "      <td>UT</td>\n",
       "      <td>West</td>\n",
       "      <td>Firing Squad</td>\n",
       "      <td>No</td>\n",
       "      <td>Yes</td>\n",
       "      <td>No</td>\n",
       "      <td>No</td>\n",
       "    </tr>\n",
       "    <tr>\n",
       "      <th>1</th>\n",
       "      <td>05/25/1979</td>\n",
       "      <td>John Spenkelink</td>\n",
       "      <td>30</td>\n",
       "      <td>Male</td>\n",
       "      <td>White</td>\n",
       "      <td>Murder</td>\n",
       "      <td>1</td>\n",
       "      <td>Male</td>\n",
       "      <td>White</td>\n",
       "      <td>Leon</td>\n",
       "      <td>FL</td>\n",
       "      <td>South</td>\n",
       "      <td>Electrocution</td>\n",
       "      <td>No</td>\n",
       "      <td>No</td>\n",
       "      <td>No</td>\n",
       "      <td>No</td>\n",
       "    </tr>\n",
       "    <tr>\n",
       "      <th>2</th>\n",
       "      <td>10/22/1979</td>\n",
       "      <td>Jesse Bishop</td>\n",
       "      <td>46</td>\n",
       "      <td>Male</td>\n",
       "      <td>White</td>\n",
       "      <td>Murder</td>\n",
       "      <td>1</td>\n",
       "      <td>Male</td>\n",
       "      <td>White</td>\n",
       "      <td>Clark</td>\n",
       "      <td>NV</td>\n",
       "      <td>West</td>\n",
       "      <td>Gas Chamber</td>\n",
       "      <td>No</td>\n",
       "      <td>Yes</td>\n",
       "      <td>No</td>\n",
       "      <td>No</td>\n",
       "    </tr>\n",
       "    <tr>\n",
       "      <th>3</th>\n",
       "      <td>03/09/1981</td>\n",
       "      <td>Steven Judy</td>\n",
       "      <td>24</td>\n",
       "      <td>Male</td>\n",
       "      <td>White</td>\n",
       "      <td>Murder</td>\n",
       "      <td>4</td>\n",
       "      <td>2 Male, 2 Female</td>\n",
       "      <td>White</td>\n",
       "      <td>Marion</td>\n",
       "      <td>IN</td>\n",
       "      <td>Midwest</td>\n",
       "      <td>Electrocution</td>\n",
       "      <td>No</td>\n",
       "      <td>Yes</td>\n",
       "      <td>No</td>\n",
       "      <td>No</td>\n",
       "    </tr>\n",
       "    <tr>\n",
       "      <th>4</th>\n",
       "      <td>08/10/1982</td>\n",
       "      <td>Frank Coppola</td>\n",
       "      <td>38</td>\n",
       "      <td>Male</td>\n",
       "      <td>White</td>\n",
       "      <td>Murder</td>\n",
       "      <td>1</td>\n",
       "      <td>Male</td>\n",
       "      <td>White</td>\n",
       "      <td>Newport News City</td>\n",
       "      <td>VA</td>\n",
       "      <td>South</td>\n",
       "      <td>Electrocution</td>\n",
       "      <td>No</td>\n",
       "      <td>Yes</td>\n",
       "      <td>No</td>\n",
       "      <td>No</td>\n",
       "    </tr>\n",
       "    <tr>\n",
       "      <th>5</th>\n",
       "      <td>12/07/1982</td>\n",
       "      <td>Charlie Brooks</td>\n",
       "      <td>40</td>\n",
       "      <td>Male</td>\n",
       "      <td>Black</td>\n",
       "      <td>Murder</td>\n",
       "      <td>1</td>\n",
       "      <td>Male</td>\n",
       "      <td>White</td>\n",
       "      <td>Tarrant</td>\n",
       "      <td>TX</td>\n",
       "      <td>South</td>\n",
       "      <td>Lethal Injection</td>\n",
       "      <td>No</td>\n",
       "      <td>No</td>\n",
       "      <td>No</td>\n",
       "      <td>No</td>\n",
       "    </tr>\n",
       "    <tr>\n",
       "      <th>6</th>\n",
       "      <td>04/22/1983</td>\n",
       "      <td>John Evans</td>\n",
       "      <td>33</td>\n",
       "      <td>Male</td>\n",
       "      <td>White</td>\n",
       "      <td>Murder</td>\n",
       "      <td>1</td>\n",
       "      <td>Male</td>\n",
       "      <td>White</td>\n",
       "      <td>Mobile</td>\n",
       "      <td>AL</td>\n",
       "      <td>South</td>\n",
       "      <td>Electrocution</td>\n",
       "      <td>No</td>\n",
       "      <td>No</td>\n",
       "      <td>No</td>\n",
       "      <td>No</td>\n",
       "    </tr>\n",
       "    <tr>\n",
       "      <th>7</th>\n",
       "      <td>09/02/1983</td>\n",
       "      <td>Jimmy  Gray</td>\n",
       "      <td>34</td>\n",
       "      <td>Male</td>\n",
       "      <td>White</td>\n",
       "      <td>Murder</td>\n",
       "      <td>1</td>\n",
       "      <td>Female</td>\n",
       "      <td>White</td>\n",
       "      <td>Jackson</td>\n",
       "      <td>MS</td>\n",
       "      <td>South</td>\n",
       "      <td>Gas Chamber</td>\n",
       "      <td>No</td>\n",
       "      <td>No</td>\n",
       "      <td>No</td>\n",
       "      <td>No</td>\n",
       "    </tr>\n",
       "    <tr>\n",
       "      <th>8</th>\n",
       "      <td>11/30/1983</td>\n",
       "      <td>Robert Sullivan</td>\n",
       "      <td>36</td>\n",
       "      <td>Male</td>\n",
       "      <td>White</td>\n",
       "      <td>Murder</td>\n",
       "      <td>1</td>\n",
       "      <td>Male</td>\n",
       "      <td>White</td>\n",
       "      <td>Miami-Dade</td>\n",
       "      <td>FL</td>\n",
       "      <td>South</td>\n",
       "      <td>Electrocution</td>\n",
       "      <td>No</td>\n",
       "      <td>No</td>\n",
       "      <td>No</td>\n",
       "      <td>No</td>\n",
       "    </tr>\n",
       "    <tr>\n",
       "      <th>9</th>\n",
       "      <td>12/14/1983</td>\n",
       "      <td>Robert Williams</td>\n",
       "      <td>31</td>\n",
       "      <td>Male</td>\n",
       "      <td>Black</td>\n",
       "      <td>Murder</td>\n",
       "      <td>1</td>\n",
       "      <td>Male</td>\n",
       "      <td>Black</td>\n",
       "      <td>East Baton Rouge Parish</td>\n",
       "      <td>LA</td>\n",
       "      <td>South</td>\n",
       "      <td>Electrocution</td>\n",
       "      <td>No</td>\n",
       "      <td>No</td>\n",
       "      <td>No</td>\n",
       "      <td>No</td>\n",
       "    </tr>\n",
       "  </tbody>\n",
       "</table>\n",
       "</div>"
      ],
      "text/plain": [
       "         Date             Name  Age   Sex   Race   Crime  Victim Count  \\\n",
       "0  01/17/1977     Gary Gilmore   36  Male  White  Murder             1   \n",
       "1  05/25/1979  John Spenkelink   30  Male  White  Murder             1   \n",
       "2  10/22/1979     Jesse Bishop   46  Male  White  Murder             1   \n",
       "3  03/09/1981      Steven Judy   24  Male  White  Murder             4   \n",
       "4  08/10/1982    Frank Coppola   38  Male  White  Murder             1   \n",
       "5  12/07/1982   Charlie Brooks   40  Male  Black  Murder             1   \n",
       "6  04/22/1983       John Evans   33  Male  White  Murder             1   \n",
       "7  09/02/1983      Jimmy  Gray   34  Male  White  Murder             1   \n",
       "8  11/30/1983  Robert Sullivan   36  Male  White  Murder             1   \n",
       "9  12/14/1983  Robert Williams   31  Male  Black  Murder             1   \n",
       "\n",
       "         Victim Sex Victim Race                   County State   Region  \\\n",
       "0              Male       White                     Utah    UT     West   \n",
       "1              Male       White                     Leon    FL    South   \n",
       "2              Male       White                    Clark    NV     West   \n",
       "3  2 Male, 2 Female       White                   Marion    IN  Midwest   \n",
       "4              Male       White        Newport News City    VA    South   \n",
       "5              Male       White                  Tarrant    TX    South   \n",
       "6              Male       White                   Mobile    AL    South   \n",
       "7            Female       White                  Jackson    MS    South   \n",
       "8              Male       White               Miami-Dade    FL    South   \n",
       "9              Male       Black  East Baton Rouge Parish    LA    South   \n",
       "\n",
       "             Method Juvenile Volunteer Federal Foreign National  \n",
       "0      Firing Squad       No       Yes      No               No  \n",
       "1     Electrocution       No        No      No               No  \n",
       "2       Gas Chamber       No       Yes      No               No  \n",
       "3     Electrocution       No       Yes      No               No  \n",
       "4     Electrocution       No       Yes      No               No  \n",
       "5  Lethal Injection       No        No      No               No  \n",
       "6     Electrocution       No        No      No               No  \n",
       "7       Gas Chamber       No        No      No               No  \n",
       "8     Electrocution       No        No      No               No  \n",
       "9     Electrocution       No        No      No               No  "
      ]
     },
     "execution_count": 5,
     "metadata": {},
     "output_type": "execute_result"
    }
   ],
   "source": [
    "df.head(10)"
   ]
  },
  {
   "cell_type": "markdown",
   "metadata": {},
   "source": [
    "## Cleaning Data"
   ]
  },
  {
   "cell_type": "markdown",
   "metadata": {},
   "source": [
    "#### Dropping columns"
   ]
  },
  {
   "cell_type": "code",
   "execution_count": 6,
   "metadata": {},
   "outputs": [
    {
     "data": {
      "text/plain": [
       "Index(['Date', 'Name', 'Age', 'Sex', 'Race', 'Crime', 'Victim Count',\n",
       "       'Victim Sex', 'Victim Race', 'County', 'State', 'Region', 'Method',\n",
       "       'Juvenile', 'Volunteer', 'Federal', 'Foreign National'],\n",
       "      dtype='object')"
      ]
     },
     "execution_count": 6,
     "metadata": {},
     "output_type": "execute_result"
    }
   ],
   "source": [
    "df.columns"
   ]
  },
  {
   "cell_type": "code",
   "execution_count": 9,
   "metadata": {},
   "outputs": [
    {
     "data": {
      "text/plain": [
       "(1442, 12)"
      ]
     },
     "execution_count": 9,
     "metadata": {},
     "output_type": "execute_result"
    }
   ],
   "source": [
    "df = df[['Date', 'Name', 'Age', 'Sex', 'Race', 'Crime', 'Victim Count',\n",
    "       'Victim Sex', 'Victim Race', 'State', 'Region', 'Method']]\n",
    "\n",
    "df.shape"
   ]
  },
  {
   "cell_type": "markdown",
   "metadata": {},
   "source": [
    "Got rid of columns I didn't deem necessary or important to analyze."
   ]
  },
  {
   "cell_type": "code",
   "execution_count": 18,
   "metadata": {},
   "outputs": [],
   "source": [
    "# Rename our columns for consistency\n",
    "df = df.rename(columns={'Victim Count':'Victim_Count',\n",
    "                   'Victim Sex':'Victim_Sex',\n",
    "                   'Victim Race': 'Victim_Race'})"
   ]
  },
  {
   "cell_type": "markdown",
   "metadata": {},
   "source": [
    "Renamed columns with spaces to avoid complications when analyzing data."
   ]
  },
  {
   "cell_type": "code",
   "execution_count": 24,
   "metadata": {},
   "outputs": [
    {
     "data": {
      "text/plain": [
       "Victim_Sex\n",
       "Male                    631\n",
       "Female                  593\n",
       "Males(s) = Female(s)    129\n",
       "Male(s) > Female(s)      44\n",
       "Male(s) < Female(s)      40\n",
       "Name: count, dtype: int64"
      ]
     },
     "execution_count": 24,
     "metadata": {},
     "output_type": "execute_result"
    }
   ],
   "source": [
    "df[\"Victim_Sex\"].value_counts()\n",
    "\n",
    "# Possible Victim Sex\n",
    "\n",
    "sex_dt = {\"Males(s) = Female(s)\": [\"1 Male, 1 Female\", \"2 Male, 2 Female\", \"3 Male, 3 Female\"],\n",
    "            \"Male(s) > Female(s)\": [\"2 Male, 1 Female\", \"3 Male, 1 Female\", \"5 Male, 1 Female\", \"3 Male, 2 Female\", \"6 Male, 3 Female\", \"7 Male, 2 Female\"],\n",
    "            \"Male(s) < Female(s)\": [\"1 Male, 2 Female\", \"1 Male, 3 Female\", \"1 Male, 4 Female\", \"2 Male, 3 Female\", \"6 Male, 10 Female\", \"1 Male, 5 Female\"]}\n",
    "\n",
    "def organize_sex(word):\n",
    "    for key in sex_dt:\n",
    "        if word in sex_dt[key]:\n",
    "            return key\n",
    "    return word\n",
    "\n",
    "df[\"Victim_Sex\"] = df[\"Victim_Sex\"].map(organize_sex)\n",
    "df[\"Victim_Sex\"].value_counts()"
   ]
  },
  {
   "cell_type": "markdown",
   "metadata": {},
   "source": [
    "Cleaned up the Victim_Sex column by sorting between male, female, or if multiple victims: male = female count, male > female count, male < female count."
   ]
  },
  {
   "cell_type": "code",
   "execution_count": 73,
   "metadata": {},
   "outputs": [
    {
     "data": {
      "text/plain": [
       "Victim_Race\n",
       "White                 1087\n",
       "Black                  192\n",
       "Latino                  94\n",
       "Multi-Racial Group      38\n",
       "Asian                   22\n",
       "Native American          3\n",
       "Name: count, dtype: int64"
      ]
     },
     "execution_count": 73,
     "metadata": {},
     "output_type": "execute_result"
    }
   ],
   "source": [
    "df[\"Victim_Race\"].value_counts()\n",
    "\n",
    "race_dt = {\"Multi-Racial Group\": [\"1 White, 1 Latino\", \"1 White, 1 Black\", \"2 White, 1 Black\", \"1 White, 2 Latino\", \"1 White, 2 Black\", \n",
    "                                  \"2 White, 1 Asian\", \"3 White, 1 Black\", \"4 White, 1 Black, 1 Latino\", \"1 White, 3 Latino\", \"4 White, 1 Black\",\n",
    "                                  \"2 White, 1 Latino\", \"2 White, 2 Asian\", \"1 White, 3 Asian\", \"4 White, 1 Latino\", \"2 White, 3 Black\", \"1 White, 8 Latino\",\n",
    "                                  \"2 White, 6 Black\"]}\n",
    "\n",
    "def organize_race(word):\n",
    "    for key in race_dt:\n",
    "        if word in race_dt[key]:\n",
    "            return key\n",
    "    return word\n",
    "\n",
    "df[\"Victim_Race\"] = df[\"Victim_Race\"].map(organize_race)\n",
    "df[\"Victim_Race\"].value_counts()\n"
   ]
  },
  {
   "cell_type": "markdown",
   "metadata": {},
   "source": [
    "Same thing for Victim_Race, but after looking at the value_counts, I realized that I thought it would be important to see the difference between all victims being the same race or being of different races."
   ]
  },
  {
   "cell_type": "markdown",
   "metadata": {},
   "source": [
    "#### Looking for null data"
   ]
  },
  {
   "cell_type": "code",
   "execution_count": 11,
   "metadata": {},
   "outputs": [
    {
     "data": {
      "text/plain": [
       "Date            0.000000\n",
       "Name            0.000000\n",
       "Age             0.000000\n",
       "Sex             0.000000\n",
       "Race            0.000000\n",
       "Crime           0.000000\n",
       "Victim Count    0.000000\n",
       "Victim Sex      0.003467\n",
       "Victim Race     0.004161\n",
       "State           0.000000\n",
       "Region          0.000000\n",
       "Method          0.000000\n",
       "dtype: float64"
      ]
     },
     "execution_count": 11,
     "metadata": {},
     "output_type": "execute_result"
    }
   ],
   "source": [
    "# Overall sum of null data\n",
    "df.isna().sum()\n",
    "\n",
    "# Ratio of null data to number of rows per column\n",
    "df.isna().sum() / df.shape[0]"
   ]
  },
  {
   "cell_type": "markdown",
   "metadata": {},
   "source": [
    "Found that there was some null data in victim sex and race, but the percentage of null data is below 10% (in this case, it was less than 0.5% for both), and therefore should not be dropped."
   ]
  },
  {
   "cell_type": "markdown",
   "metadata": {},
   "source": [
    "#### Checking for duplicates"
   ]
  },
  {
   "cell_type": "code",
   "execution_count": 13,
   "metadata": {},
   "outputs": [
    {
     "data": {
      "text/plain": [
       "17"
      ]
     },
     "execution_count": 13,
     "metadata": {},
     "output_type": "execute_result"
    }
   ],
   "source": [
    "df.duplicated().sum()\n",
    "\n",
    "df.duplicated([\"Name\"]).sum()"
   ]
  },
  {
   "cell_type": "markdown",
   "metadata": {},
   "source": [
    "Found no immediate duplicates, but found that there were duplicates of the criminal's name."
   ]
  },
  {
   "cell_type": "code",
   "execution_count": 14,
   "metadata": {},
   "outputs": [
    {
     "data": {
      "text/html": [
       "<div>\n",
       "<style scoped>\n",
       "    .dataframe tbody tr th:only-of-type {\n",
       "        vertical-align: middle;\n",
       "    }\n",
       "\n",
       "    .dataframe tbody tr th {\n",
       "        vertical-align: top;\n",
       "    }\n",
       "\n",
       "    .dataframe thead th {\n",
       "        text-align: right;\n",
       "    }\n",
       "</style>\n",
       "<table border=\"1\" class=\"dataframe\">\n",
       "  <thead>\n",
       "    <tr style=\"text-align: right;\">\n",
       "      <th></th>\n",
       "      <th>Date</th>\n",
       "      <th>Name</th>\n",
       "      <th>Age</th>\n",
       "      <th>Sex</th>\n",
       "      <th>Race</th>\n",
       "      <th>Crime</th>\n",
       "      <th>Victim Count</th>\n",
       "      <th>Victim Sex</th>\n",
       "      <th>Victim Race</th>\n",
       "      <th>State</th>\n",
       "      <th>Region</th>\n",
       "      <th>Method</th>\n",
       "    </tr>\n",
       "  </thead>\n",
       "  <tbody>\n",
       "    <tr>\n",
       "      <th>900</th>\n",
       "      <td>03/09/2004</td>\n",
       "      <td>David Brown</td>\n",
       "      <td>49</td>\n",
       "      <td>Male</td>\n",
       "      <td>White</td>\n",
       "      <td>Murder</td>\n",
       "      <td>1</td>\n",
       "      <td>Male</td>\n",
       "      <td>White</td>\n",
       "      <td>OK</td>\n",
       "      <td>South</td>\n",
       "      <td>Lethal Injection</td>\n",
       "    </tr>\n",
       "    <tr>\n",
       "      <th>588</th>\n",
       "      <td>11/19/1999</td>\n",
       "      <td>David Brown</td>\n",
       "      <td>51</td>\n",
       "      <td>Male</td>\n",
       "      <td>Black</td>\n",
       "      <td>Murder</td>\n",
       "      <td>2</td>\n",
       "      <td>Female</td>\n",
       "      <td>White</td>\n",
       "      <td>NC</td>\n",
       "      <td>South</td>\n",
       "      <td>Lethal Injection</td>\n",
       "    </tr>\n",
       "    <tr>\n",
       "      <th>709</th>\n",
       "      <td>04/26/2001</td>\n",
       "      <td>David Dawson</td>\n",
       "      <td>46</td>\n",
       "      <td>Male</td>\n",
       "      <td>White</td>\n",
       "      <td>Murder</td>\n",
       "      <td>1</td>\n",
       "      <td>Female</td>\n",
       "      <td>White</td>\n",
       "      <td>DE</td>\n",
       "      <td>South</td>\n",
       "      <td>Lethal Injection</td>\n",
       "    </tr>\n",
       "    <tr>\n",
       "      <th>1038</th>\n",
       "      <td>08/11/2006</td>\n",
       "      <td>David Dawson</td>\n",
       "      <td>49</td>\n",
       "      <td>Male</td>\n",
       "      <td>White</td>\n",
       "      <td>Murder</td>\n",
       "      <td>3</td>\n",
       "      <td>2 Male, 1 Female</td>\n",
       "      <td>White</td>\n",
       "      <td>MT</td>\n",
       "      <td>West</td>\n",
       "      <td>Lethal Injection</td>\n",
       "    </tr>\n",
       "    <tr>\n",
       "      <th>902</th>\n",
       "      <td>03/19/2004</td>\n",
       "      <td>David Hill</td>\n",
       "      <td>39</td>\n",
       "      <td>Male</td>\n",
       "      <td>White</td>\n",
       "      <td>Murder</td>\n",
       "      <td>1</td>\n",
       "      <td>Male</td>\n",
       "      <td>White</td>\n",
       "      <td>SC</td>\n",
       "      <td>South</td>\n",
       "      <td>Lethal Injection</td>\n",
       "    </tr>\n",
       "    <tr>\n",
       "      <th>1103</th>\n",
       "      <td>06/06/2008</td>\n",
       "      <td>David Hill</td>\n",
       "      <td>48</td>\n",
       "      <td>Male</td>\n",
       "      <td>White</td>\n",
       "      <td>Murder</td>\n",
       "      <td>3</td>\n",
       "      <td>1 Male, 2 Female</td>\n",
       "      <td>2 White, 1 Black</td>\n",
       "      <td>SC</td>\n",
       "      <td>South</td>\n",
       "      <td>Lethal Injection</td>\n",
       "    </tr>\n",
       "    <tr>\n",
       "      <th>975</th>\n",
       "      <td>07/28/2005</td>\n",
       "      <td>David Martinez</td>\n",
       "      <td>29</td>\n",
       "      <td>Male</td>\n",
       "      <td>Latino</td>\n",
       "      <td>Murder</td>\n",
       "      <td>1</td>\n",
       "      <td>Female</td>\n",
       "      <td>White</td>\n",
       "      <td>TX</td>\n",
       "      <td>South</td>\n",
       "      <td>Lethal Injection</td>\n",
       "    </tr>\n",
       "    <tr>\n",
       "      <th>1143</th>\n",
       "      <td>02/04/2009</td>\n",
       "      <td>David Martinez</td>\n",
       "      <td>36</td>\n",
       "      <td>Male</td>\n",
       "      <td>Latino</td>\n",
       "      <td>Murder</td>\n",
       "      <td>2</td>\n",
       "      <td>1 Male, 1 Female</td>\n",
       "      <td>Latino</td>\n",
       "      <td>TX</td>\n",
       "      <td>South</td>\n",
       "      <td>Lethal Injection</td>\n",
       "    </tr>\n",
       "    <tr>\n",
       "      <th>1063</th>\n",
       "      <td>02/27/2007</td>\n",
       "      <td>Donald Miller</td>\n",
       "      <td>44</td>\n",
       "      <td>Male</td>\n",
       "      <td>White</td>\n",
       "      <td>Murder</td>\n",
       "      <td>2</td>\n",
       "      <td>Male</td>\n",
       "      <td>White</td>\n",
       "      <td>TX</td>\n",
       "      <td>South</td>\n",
       "      <td>Lethal Injection</td>\n",
       "    </tr>\n",
       "    <tr>\n",
       "      <th>670</th>\n",
       "      <td>11/08/2000</td>\n",
       "      <td>Donald Miller</td>\n",
       "      <td>36</td>\n",
       "      <td>Male</td>\n",
       "      <td>White</td>\n",
       "      <td>Murder</td>\n",
       "      <td>1</td>\n",
       "      <td>Female</td>\n",
       "      <td>White</td>\n",
       "      <td>AZ</td>\n",
       "      <td>West</td>\n",
       "      <td>Lethal Injection</td>\n",
       "    </tr>\n",
       "    <tr>\n",
       "      <th>1069</th>\n",
       "      <td>04/11/2007</td>\n",
       "      <td>James Clark</td>\n",
       "      <td>38</td>\n",
       "      <td>Male</td>\n",
       "      <td>White</td>\n",
       "      <td>Murder</td>\n",
       "      <td>1</td>\n",
       "      <td>Female</td>\n",
       "      <td>White</td>\n",
       "      <td>TX</td>\n",
       "      <td>South</td>\n",
       "      <td>Lethal Injection</td>\n",
       "    </tr>\n",
       "    <tr>\n",
       "      <th>197</th>\n",
       "      <td>04/14/1993</td>\n",
       "      <td>James Clark</td>\n",
       "      <td>35</td>\n",
       "      <td>Male</td>\n",
       "      <td>White</td>\n",
       "      <td>Murder</td>\n",
       "      <td>4</td>\n",
       "      <td>3 Male, 1 Female</td>\n",
       "      <td>White</td>\n",
       "      <td>AZ</td>\n",
       "      <td>West</td>\n",
       "      <td>Lethal Injection</td>\n",
       "    </tr>\n",
       "    <tr>\n",
       "      <th>326</th>\n",
       "      <td>04/19/1996</td>\n",
       "      <td>James Clark</td>\n",
       "      <td>39</td>\n",
       "      <td>Male</td>\n",
       "      <td>White</td>\n",
       "      <td>Murder</td>\n",
       "      <td>2</td>\n",
       "      <td>1 Male, 1 Female</td>\n",
       "      <td>White</td>\n",
       "      <td>DE</td>\n",
       "      <td>South</td>\n",
       "      <td>Lethal Injection</td>\n",
       "    </tr>\n",
       "    <tr>\n",
       "      <th>10</th>\n",
       "      <td>12/15/1983</td>\n",
       "      <td>John Smith</td>\n",
       "      <td>53</td>\n",
       "      <td>Male</td>\n",
       "      <td>White</td>\n",
       "      <td>Murder</td>\n",
       "      <td>2</td>\n",
       "      <td>1 Male, 1 Female</td>\n",
       "      <td>White</td>\n",
       "      <td>GA</td>\n",
       "      <td>South</td>\n",
       "      <td>Electrocution</td>\n",
       "    </tr>\n",
       "    <tr>\n",
       "      <th>877</th>\n",
       "      <td>10/29/2003</td>\n",
       "      <td>John Smith</td>\n",
       "      <td>42</td>\n",
       "      <td>Male</td>\n",
       "      <td>White</td>\n",
       "      <td>Murder</td>\n",
       "      <td>2</td>\n",
       "      <td>1 Male, 1 Female</td>\n",
       "      <td>White</td>\n",
       "      <td>MO</td>\n",
       "      <td>Midwest</td>\n",
       "      <td>Lethal Injection</td>\n",
       "    </tr>\n",
       "    <tr>\n",
       "      <th>316</th>\n",
       "      <td>01/27/1996</td>\n",
       "      <td>John Taylor</td>\n",
       "      <td>36</td>\n",
       "      <td>Male</td>\n",
       "      <td>White</td>\n",
       "      <td>Murder</td>\n",
       "      <td>1</td>\n",
       "      <td>Female</td>\n",
       "      <td>White</td>\n",
       "      <td>UT</td>\n",
       "      <td>West</td>\n",
       "      <td>Firing Squad</td>\n",
       "    </tr>\n",
       "    <tr>\n",
       "      <th>12</th>\n",
       "      <td>02/29/1984</td>\n",
       "      <td>John Taylor</td>\n",
       "      <td>30</td>\n",
       "      <td>Male</td>\n",
       "      <td>Black</td>\n",
       "      <td>Murder</td>\n",
       "      <td>1</td>\n",
       "      <td>Male</td>\n",
       "      <td>White</td>\n",
       "      <td>LA</td>\n",
       "      <td>South</td>\n",
       "      <td>Electrocution</td>\n",
       "    </tr>\n",
       "    <tr>\n",
       "      <th>1366</th>\n",
       "      <td>02/12/2014</td>\n",
       "      <td>Juan Chavez</td>\n",
       "      <td>46</td>\n",
       "      <td>Male</td>\n",
       "      <td>Latino</td>\n",
       "      <td>Murder</td>\n",
       "      <td>1</td>\n",
       "      <td>Male</td>\n",
       "      <td>White</td>\n",
       "      <td>FL</td>\n",
       "      <td>South</td>\n",
       "      <td>Lethal Injection</td>\n",
       "    </tr>\n",
       "    <tr>\n",
       "      <th>846</th>\n",
       "      <td>04/22/2003</td>\n",
       "      <td>Juan Chavez</td>\n",
       "      <td>34</td>\n",
       "      <td>Male</td>\n",
       "      <td>Latino</td>\n",
       "      <td>Murder</td>\n",
       "      <td>1</td>\n",
       "      <td>Male</td>\n",
       "      <td>Latino</td>\n",
       "      <td>TX</td>\n",
       "      <td>South</td>\n",
       "      <td>Lethal Injection</td>\n",
       "    </tr>\n",
       "    <tr>\n",
       "      <th>732</th>\n",
       "      <td>10/03/2001</td>\n",
       "      <td>Michael Roberts</td>\n",
       "      <td>27</td>\n",
       "      <td>Male</td>\n",
       "      <td>White</td>\n",
       "      <td>Murder</td>\n",
       "      <td>1</td>\n",
       "      <td>Female</td>\n",
       "      <td>White</td>\n",
       "      <td>MO</td>\n",
       "      <td>Midwest</td>\n",
       "      <td>Lethal Injection</td>\n",
       "    </tr>\n",
       "    <tr>\n",
       "      <th>610</th>\n",
       "      <td>02/10/2000</td>\n",
       "      <td>Michael Roberts</td>\n",
       "      <td>41</td>\n",
       "      <td>Male</td>\n",
       "      <td>Black</td>\n",
       "      <td>Murder</td>\n",
       "      <td>1</td>\n",
       "      <td>Female</td>\n",
       "      <td>Black</td>\n",
       "      <td>OK</td>\n",
       "      <td>South</td>\n",
       "      <td>Lethal Injection</td>\n",
       "    </tr>\n",
       "    <tr>\n",
       "      <th>68</th>\n",
       "      <td>01/30/1987</td>\n",
       "      <td>Ramon Hernandez</td>\n",
       "      <td>44</td>\n",
       "      <td>Male</td>\n",
       "      <td>Latino</td>\n",
       "      <td>Murder</td>\n",
       "      <td>1</td>\n",
       "      <td>Male</td>\n",
       "      <td>Latino</td>\n",
       "      <td>TX</td>\n",
       "      <td>South</td>\n",
       "      <td>Lethal Injection</td>\n",
       "    </tr>\n",
       "    <tr>\n",
       "      <th>1315</th>\n",
       "      <td>11/14/2012</td>\n",
       "      <td>Ramon Hernandez</td>\n",
       "      <td>41</td>\n",
       "      <td>Male</td>\n",
       "      <td>Latino</td>\n",
       "      <td>Murder</td>\n",
       "      <td>1</td>\n",
       "      <td>Female</td>\n",
       "      <td>Latino</td>\n",
       "      <td>TX</td>\n",
       "      <td>South</td>\n",
       "      <td>Lethal Injection</td>\n",
       "    </tr>\n",
       "    <tr>\n",
       "      <th>636</th>\n",
       "      <td>05/31/2000</td>\n",
       "      <td>Robert Carter</td>\n",
       "      <td>34</td>\n",
       "      <td>Male</td>\n",
       "      <td>Black</td>\n",
       "      <td>Murder</td>\n",
       "      <td>6</td>\n",
       "      <td>1 Male, 5 Female</td>\n",
       "      <td>Black</td>\n",
       "      <td>TX</td>\n",
       "      <td>South</td>\n",
       "      <td>Lethal Injection</td>\n",
       "    </tr>\n",
       "    <tr>\n",
       "      <th>459</th>\n",
       "      <td>05/18/1998</td>\n",
       "      <td>Robert Carter</td>\n",
       "      <td>34</td>\n",
       "      <td>Male</td>\n",
       "      <td>Black</td>\n",
       "      <td>Murder</td>\n",
       "      <td>1</td>\n",
       "      <td>Female</td>\n",
       "      <td>Latino</td>\n",
       "      <td>TX</td>\n",
       "      <td>South</td>\n",
       "      <td>Lethal Injection</td>\n",
       "    </tr>\n",
       "    <tr>\n",
       "      <th>1304</th>\n",
       "      <td>09/20/2012</td>\n",
       "      <td>Robert Harris</td>\n",
       "      <td>40</td>\n",
       "      <td>Male</td>\n",
       "      <td>Black</td>\n",
       "      <td>Murder</td>\n",
       "      <td>2</td>\n",
       "      <td>1 Male, 1 Female</td>\n",
       "      <td>1 White, 1 Latino</td>\n",
       "      <td>TX</td>\n",
       "      <td>South</td>\n",
       "      <td>Lethal Injection</td>\n",
       "    </tr>\n",
       "    <tr>\n",
       "      <th>168</th>\n",
       "      <td>04/21/1992</td>\n",
       "      <td>Robert Harris</td>\n",
       "      <td>39</td>\n",
       "      <td>Male</td>\n",
       "      <td>White</td>\n",
       "      <td>Murder</td>\n",
       "      <td>2</td>\n",
       "      <td>Male</td>\n",
       "      <td>White</td>\n",
       "      <td>CA</td>\n",
       "      <td>West</td>\n",
       "      <td>Gas Chamber</td>\n",
       "    </tr>\n",
       "    <tr>\n",
       "      <th>881</th>\n",
       "      <td>11/20/2003</td>\n",
       "      <td>Robert Henry</td>\n",
       "      <td>41</td>\n",
       "      <td>Male</td>\n",
       "      <td>White</td>\n",
       "      <td>Murder</td>\n",
       "      <td>2</td>\n",
       "      <td>Female</td>\n",
       "      <td>White</td>\n",
       "      <td>TX</td>\n",
       "      <td>South</td>\n",
       "      <td>Lethal Injection</td>\n",
       "    </tr>\n",
       "    <tr>\n",
       "      <th>1370</th>\n",
       "      <td>03/20/2014</td>\n",
       "      <td>Robert Henry</td>\n",
       "      <td>55</td>\n",
       "      <td>Male</td>\n",
       "      <td>Black</td>\n",
       "      <td>Murder</td>\n",
       "      <td>2</td>\n",
       "      <td>Female</td>\n",
       "      <td>1 White, 1 Black</td>\n",
       "      <td>FL</td>\n",
       "      <td>South</td>\n",
       "      <td>Lethal Injection</td>\n",
       "    </tr>\n",
       "    <tr>\n",
       "      <th>9</th>\n",
       "      <td>12/14/1983</td>\n",
       "      <td>Robert Williams</td>\n",
       "      <td>31</td>\n",
       "      <td>Male</td>\n",
       "      <td>Black</td>\n",
       "      <td>Murder</td>\n",
       "      <td>1</td>\n",
       "      <td>Male</td>\n",
       "      <td>Black</td>\n",
       "      <td>LA</td>\n",
       "      <td>South</td>\n",
       "      <td>Electrocution</td>\n",
       "    </tr>\n",
       "    <tr>\n",
       "      <th>428</th>\n",
       "      <td>12/02/1997</td>\n",
       "      <td>Robert Williams</td>\n",
       "      <td>61</td>\n",
       "      <td>Male</td>\n",
       "      <td>Black</td>\n",
       "      <td>Murder</td>\n",
       "      <td>1</td>\n",
       "      <td>Female</td>\n",
       "      <td>White</td>\n",
       "      <td>NE</td>\n",
       "      <td>Midwest</td>\n",
       "      <td>Electrocution</td>\n",
       "    </tr>\n",
       "    <tr>\n",
       "      <th>871</th>\n",
       "      <td>08/22/2003</td>\n",
       "      <td>William Jones</td>\n",
       "      <td>34</td>\n",
       "      <td>Male</td>\n",
       "      <td>Black</td>\n",
       "      <td>Murder</td>\n",
       "      <td>1</td>\n",
       "      <td>Male</td>\n",
       "      <td>Black</td>\n",
       "      <td>NC</td>\n",
       "      <td>South</td>\n",
       "      <td>Lethal Injection</td>\n",
       "    </tr>\n",
       "    <tr>\n",
       "      <th>808</th>\n",
       "      <td>11/20/2002</td>\n",
       "      <td>William Jones</td>\n",
       "      <td>37</td>\n",
       "      <td>Male</td>\n",
       "      <td>White</td>\n",
       "      <td>Murder</td>\n",
       "      <td>1</td>\n",
       "      <td>Male</td>\n",
       "      <td>White</td>\n",
       "      <td>MO</td>\n",
       "      <td>Midwest</td>\n",
       "      <td>Lethal Injection</td>\n",
       "    </tr>\n",
       "  </tbody>\n",
       "</table>\n",
       "</div>"
      ],
      "text/plain": [
       "            Date             Name  Age   Sex    Race   Crime  Victim Count  \\\n",
       "900   03/09/2004      David Brown   49  Male   White  Murder             1   \n",
       "588   11/19/1999      David Brown   51  Male   Black  Murder             2   \n",
       "709   04/26/2001     David Dawson   46  Male   White  Murder             1   \n",
       "1038  08/11/2006     David Dawson   49  Male   White  Murder             3   \n",
       "902   03/19/2004       David Hill   39  Male   White  Murder             1   \n",
       "1103  06/06/2008       David Hill   48  Male   White  Murder             3   \n",
       "975   07/28/2005   David Martinez   29  Male  Latino  Murder             1   \n",
       "1143  02/04/2009   David Martinez   36  Male  Latino  Murder             2   \n",
       "1063  02/27/2007    Donald Miller   44  Male   White  Murder             2   \n",
       "670   11/08/2000    Donald Miller   36  Male   White  Murder             1   \n",
       "1069  04/11/2007      James Clark   38  Male   White  Murder             1   \n",
       "197   04/14/1993      James Clark   35  Male   White  Murder             4   \n",
       "326   04/19/1996      James Clark   39  Male   White  Murder             2   \n",
       "10    12/15/1983       John Smith   53  Male   White  Murder             2   \n",
       "877   10/29/2003       John Smith   42  Male   White  Murder             2   \n",
       "316   01/27/1996      John Taylor   36  Male   White  Murder             1   \n",
       "12    02/29/1984      John Taylor   30  Male   Black  Murder             1   \n",
       "1366  02/12/2014      Juan Chavez   46  Male  Latino  Murder             1   \n",
       "846   04/22/2003      Juan Chavez   34  Male  Latino  Murder             1   \n",
       "732   10/03/2001  Michael Roberts   27  Male   White  Murder             1   \n",
       "610   02/10/2000  Michael Roberts   41  Male   Black  Murder             1   \n",
       "68    01/30/1987  Ramon Hernandez   44  Male  Latino  Murder             1   \n",
       "1315  11/14/2012  Ramon Hernandez   41  Male  Latino  Murder             1   \n",
       "636   05/31/2000    Robert Carter   34  Male   Black  Murder             6   \n",
       "459   05/18/1998    Robert Carter   34  Male   Black  Murder             1   \n",
       "1304  09/20/2012    Robert Harris   40  Male   Black  Murder             2   \n",
       "168   04/21/1992    Robert Harris   39  Male   White  Murder             2   \n",
       "881   11/20/2003     Robert Henry   41  Male   White  Murder             2   \n",
       "1370  03/20/2014     Robert Henry   55  Male   Black  Murder             2   \n",
       "9     12/14/1983  Robert Williams   31  Male   Black  Murder             1   \n",
       "428   12/02/1997  Robert Williams   61  Male   Black  Murder             1   \n",
       "871   08/22/2003    William Jones   34  Male   Black  Murder             1   \n",
       "808   11/20/2002    William Jones   37  Male   White  Murder             1   \n",
       "\n",
       "            Victim Sex        Victim Race State   Region            Method  \n",
       "900               Male              White    OK    South  Lethal Injection  \n",
       "588             Female              White    NC    South  Lethal Injection  \n",
       "709             Female              White    DE    South  Lethal Injection  \n",
       "1038  2 Male, 1 Female              White    MT     West  Lethal Injection  \n",
       "902               Male              White    SC    South  Lethal Injection  \n",
       "1103  1 Male, 2 Female   2 White, 1 Black    SC    South  Lethal Injection  \n",
       "975             Female              White    TX    South  Lethal Injection  \n",
       "1143  1 Male, 1 Female             Latino    TX    South  Lethal Injection  \n",
       "1063              Male              White    TX    South  Lethal Injection  \n",
       "670             Female              White    AZ     West  Lethal Injection  \n",
       "1069            Female              White    TX    South  Lethal Injection  \n",
       "197   3 Male, 1 Female              White    AZ     West  Lethal Injection  \n",
       "326   1 Male, 1 Female              White    DE    South  Lethal Injection  \n",
       "10    1 Male, 1 Female              White    GA    South     Electrocution  \n",
       "877   1 Male, 1 Female              White    MO  Midwest  Lethal Injection  \n",
       "316             Female              White    UT     West      Firing Squad  \n",
       "12                Male              White    LA    South     Electrocution  \n",
       "1366              Male              White    FL    South  Lethal Injection  \n",
       "846               Male             Latino    TX    South  Lethal Injection  \n",
       "732             Female              White    MO  Midwest  Lethal Injection  \n",
       "610             Female              Black    OK    South  Lethal Injection  \n",
       "68                Male             Latino    TX    South  Lethal Injection  \n",
       "1315            Female             Latino    TX    South  Lethal Injection  \n",
       "636   1 Male, 5 Female              Black    TX    South  Lethal Injection  \n",
       "459             Female             Latino    TX    South  Lethal Injection  \n",
       "1304  1 Male, 1 Female  1 White, 1 Latino    TX    South  Lethal Injection  \n",
       "168               Male              White    CA     West       Gas Chamber  \n",
       "881             Female              White    TX    South  Lethal Injection  \n",
       "1370            Female   1 White, 1 Black    FL    South  Lethal Injection  \n",
       "9                 Male              Black    LA    South     Electrocution  \n",
       "428             Female              White    NE  Midwest     Electrocution  \n",
       "871               Male              Black    NC    South  Lethal Injection  \n",
       "808               Male              White    MO  Midwest  Lethal Injection  "
      ]
     },
     "execution_count": 14,
     "metadata": {},
     "output_type": "execute_result"
    }
   ],
   "source": [
    "# Get the rows and sort by criminal name\n",
    "df.loc[df.duplicated([\"Name\"], keep=False)].sort_values([\"Name\"])"
   ]
  },
  {
   "cell_type": "markdown",
   "metadata": {},
   "source": [
    "Found some people who could be the same person - decided that they were the same person if sex, race, and state were the same. Also, checked to see if year difference of dates and age difference are the same. From looking at the data under these requirements, I could not confidently argue that any of the people on this list are repeated."
   ]
  },
  {
   "cell_type": "markdown",
   "metadata": {},
   "source": [
    "## Analyzing Data (Exploratory)"
   ]
  },
  {
   "cell_type": "code",
   "execution_count": 25,
   "metadata": {},
   "outputs": [
    {
     "data": {
      "text/plain": [
       "Index(['Date', 'Name', 'Age', 'Sex', 'Race', 'Crime', 'Victim_Count',\n",
       "       'Victim_Sex', 'Victim_Race', 'State', 'Region', 'Method'],\n",
       "      dtype='object')"
      ]
     },
     "execution_count": 25,
     "metadata": {},
     "output_type": "execute_result"
    }
   ],
   "source": [
    "df.columns"
   ]
  },
  {
   "cell_type": "markdown",
   "metadata": {},
   "source": [
    "### Age of Offender"
   ]
  },
  {
   "cell_type": "code",
   "execution_count": 36,
   "metadata": {},
   "outputs": [
    {
     "data": {
      "text/html": [
       "<div>\n",
       "<style scoped>\n",
       "    .dataframe tbody tr th:only-of-type {\n",
       "        vertical-align: middle;\n",
       "    }\n",
       "\n",
       "    .dataframe tbody tr th {\n",
       "        vertical-align: top;\n",
       "    }\n",
       "\n",
       "    .dataframe thead th {\n",
       "        text-align: right;\n",
       "    }\n",
       "</style>\n",
       "<table border=\"1\" class=\"dataframe\">\n",
       "  <thead>\n",
       "    <tr style=\"text-align: right;\">\n",
       "      <th></th>\n",
       "      <th>Date</th>\n",
       "      <th>Name</th>\n",
       "      <th>Age</th>\n",
       "      <th>Sex</th>\n",
       "      <th>Race</th>\n",
       "      <th>Crime</th>\n",
       "      <th>Victim_Count</th>\n",
       "      <th>Victim_Sex</th>\n",
       "      <th>Victim_Race</th>\n",
       "      <th>State</th>\n",
       "      <th>Region</th>\n",
       "      <th>Method</th>\n",
       "    </tr>\n",
       "  </thead>\n",
       "  <tbody>\n",
       "    <tr>\n",
       "      <th>378</th>\n",
       "      <td>05/08/1997</td>\n",
       "      <td>Scott Carpenter</td>\n",
       "      <td>22</td>\n",
       "      <td>Male</td>\n",
       "      <td>Native American</td>\n",
       "      <td>Murder</td>\n",
       "      <td>1</td>\n",
       "      <td>Male</td>\n",
       "      <td>White</td>\n",
       "      <td>OK</td>\n",
       "      <td>South</td>\n",
       "      <td>Lethal Injection</td>\n",
       "    </tr>\n",
       "  </tbody>\n",
       "</table>\n",
       "</div>"
      ],
      "text/plain": [
       "           Date             Name  Age   Sex             Race   Crime  \\\n",
       "378  05/08/1997  Scott Carpenter   22  Male  Native American  Murder   \n",
       "\n",
       "     Victim_Count Victim_Sex Victim_Race State Region            Method  \n",
       "378             1       Male       White    OK  South  Lethal Injection  "
      ]
     },
     "execution_count": 36,
     "metadata": {},
     "output_type": "execute_result"
    },
    {
     "data": {
      "image/png": "[encoded data removed]",
      "text/plain": [
       "<Figure size 640x480 with 1 Axes>"
      ]
     },
     "metadata": {},
     "output_type": "display_data"
    }
   ],
   "source": [
    "# Looking at the range of ages\n",
    "sns.histplot(data=df, x=\"Age\")\n",
    "\n",
    "# Youngest and Oldest to Undergo the Death Penalty\n",
    "df.loc[df[\"Age\"] == df[\"Age\"].min()]\n",
    "df.loc[df[\"Age\"] == df[\"Age\"].max()]\n"
   ]
  },
  {
   "cell_type": "markdown",
   "metadata": {},
   "source": [
    "Oldest offender age 77, youngest offender age 22."
   ]
  },
  {
   "cell_type": "markdown",
   "metadata": {},
   "source": [
    "### Race of Offender"
   ]
  },
  {
   "cell_type": "code",
   "execution_count": 80,
   "metadata": {},
   "outputs": [
    {
     "data": {
      "text/plain": [
       "<Axes: xlabel='Race', ylabel='Count'>"
      ]
     },
     "execution_count": 80,
     "metadata": {},
     "output_type": "execute_result"
    },
    {
     "data": {
      "image/png": "[encoded data removed]",
      "text/plain": [
       "<Figure size 800x400 with 1 Axes>"
      ]
     },
     "metadata": {},
     "output_type": "display_data"
    }
   ],
   "source": [
    "plt.figure(figsize=(8,4))\n",
    "sns.histplot(data=df, x=\"Race\")"
   ]
  },
  {
   "cell_type": "markdown",
   "metadata": {},
   "source": [
    "### Sex of Offender"
   ]
  },
  {
   "cell_type": "code",
   "execution_count": 54,
   "metadata": {},
   "outputs": [
    {
     "data": {
      "text/plain": [
       "1.1095700416088765"
      ]
     },
     "execution_count": 54,
     "metadata": {},
     "output_type": "execute_result"
    }
   ],
   "source": [
    "df.loc[df[\"Sex\"] == \"Female\"] #16 women\n",
    "\n",
    "# Percentage of Women Offenders\n",
    "16 / df.shape[0] * 100"
   ]
  },
  {
   "cell_type": "markdown",
   "metadata": {},
   "source": [
    "Women take up around 1.1% of the offenders that received the death penalty."
   ]
  },
  {
   "cell_type": "markdown",
   "metadata": {},
   "source": [
    "### Crime Committed"
   ]
  },
  {
   "cell_type": "code",
   "execution_count": 56,
   "metadata": {},
   "outputs": [
    {
     "data": {
      "text/plain": [
       "Crime\n",
       "Murder    1442\n",
       "Name: count, dtype: int64"
      ]
     },
     "execution_count": 56,
     "metadata": {},
     "output_type": "execute_result"
    }
   ],
   "source": [
    "# Only crime was murder\n",
    "df[\"Crime\"].value_counts()"
   ]
  },
  {
   "cell_type": "markdown",
   "metadata": {},
   "source": [
    "### Victim Count"
   ]
  },
  {
   "cell_type": "code",
   "execution_count": 61,
   "metadata": {},
   "outputs": [
    {
     "data": {
      "text/html": [
       "<div>\n",
       "<style scoped>\n",
       "    .dataframe tbody tr th:only-of-type {\n",
       "        vertical-align: middle;\n",
       "    }\n",
       "\n",
       "    .dataframe tbody tr th {\n",
       "        vertical-align: top;\n",
       "    }\n",
       "\n",
       "    .dataframe thead th {\n",
       "        text-align: right;\n",
       "    }\n",
       "</style>\n",
       "<table border=\"1\" class=\"dataframe\">\n",
       "  <thead>\n",
       "    <tr style=\"text-align: right;\">\n",
       "      <th></th>\n",
       "      <th>Date</th>\n",
       "      <th>Name</th>\n",
       "      <th>Age</th>\n",
       "      <th>Sex</th>\n",
       "      <th>Race</th>\n",
       "      <th>Crime</th>\n",
       "      <th>Victim_Count</th>\n",
       "      <th>Victim_Sex</th>\n",
       "      <th>Victim_Race</th>\n",
       "      <th>State</th>\n",
       "      <th>Region</th>\n",
       "      <th>Method</th>\n",
       "    </tr>\n",
       "  </thead>\n",
       "  <tbody>\n",
       "    <tr>\n",
       "      <th>716</th>\n",
       "      <td>06/11/2001</td>\n",
       "      <td>Timothy McVeigh*</td>\n",
       "      <td>33</td>\n",
       "      <td>Male</td>\n",
       "      <td>White</td>\n",
       "      <td>Murder</td>\n",
       "      <td>168</td>\n",
       "      <td>NaN</td>\n",
       "      <td>NaN</td>\n",
       "      <td>FE</td>\n",
       "      <td>South</td>\n",
       "      <td>Lethal Injection</td>\n",
       "    </tr>\n",
       "  </tbody>\n",
       "</table>\n",
       "</div>"
      ],
      "text/plain": [
       "           Date              Name  Age   Sex   Race   Crime  Victim_Count  \\\n",
       "716  06/11/2001  Timothy McVeigh*   33  Male  White  Murder           168   \n",
       "\n",
       "    Victim_Sex Victim_Race State Region            Method  \n",
       "716        NaN         NaN    FE  South  Lethal Injection  "
      ]
     },
     "execution_count": 61,
     "metadata": {},
     "output_type": "execute_result"
    },
    {
     "data": {
      "image/png": "[encoded data removed]",
      "text/plain": [
       "<Figure size 640x480 with 1 Axes>"
      ]
     },
     "metadata": {},
     "output_type": "display_data"
    }
   ],
   "source": [
    "sns.boxplot(data=df, x=\"Victim_Count\")\n",
    "\n",
    "# Finding the murderer with outlier victim count --> Timothy McVeigh - American domestic terrorist, Oklahoma Bombing\n",
    "df.loc[df[\"Victim_Count\"] == df[\"Victim_Count\"].max()]"
   ]
  },
  {
   "cell_type": "code",
   "execution_count": 88,
   "metadata": {},
   "outputs": [
    {
     "data": {
      "text/plain": [
       "<Axes: xlabel='Victim_Count'>"
      ]
     },
     "execution_count": 88,
     "metadata": {},
     "output_type": "execute_result"
    },
    {
     "data": {
      "image/png": "[encoded data removed]",
      "text/plain": [
       "<Figure size 640x480 with 1 Axes>"
      ]
     },
     "metadata": {},
     "output_type": "display_data"
    }
   ],
   "source": [
    "df = df.drop(df.loc[df[\"Name\"] == \"Timothy McVeigh*\"].index)"
   ]
  },
  {
   "cell_type": "markdown",
   "metadata": {},
   "source": [
    "Removing Timothy from the dataset so I can better analyze the victim count."
   ]
  },
  {
   "cell_type": "markdown",
   "metadata": {},
   "source": [
    "### Method"
   ]
  },
  {
   "cell_type": "code",
   "execution_count": 63,
   "metadata": {},
   "outputs": [
    {
     "data": {
      "text/plain": [
       "Method\n",
       "Lethal Injection    1267\n",
       "Electrocution        158\n",
       "Gas Chamber           11\n",
       "Firing Squad           3\n",
       "Hanging                3\n",
       "Name: count, dtype: int64"
      ]
     },
     "execution_count": 63,
     "metadata": {},
     "output_type": "execute_result"
    }
   ],
   "source": [
    "df[\"Method\"].value_counts()"
   ]
  },
  {
   "cell_type": "markdown",
   "metadata": {},
   "source": [
    "### State"
   ]
  },
  {
   "cell_type": "code",
   "execution_count": 69,
   "metadata": {},
   "outputs": [
    {
     "data": {
      "text/plain": [
       "State\n",
       "TX    538\n",
       "OK    112\n",
       "VA    111\n",
       "FL     92\n",
       "MO     87\n",
       "GA     69\n",
       "AL     58\n",
       "OH     53\n",
       "NC     43\n",
       "SC     43\n",
       "AZ     37\n",
       "LA     28\n",
       "AR     27\n",
       "MS     21\n",
       "IN     20\n",
       "DE     16\n",
       "CA     13\n",
       "IL     12\n",
       "NV     12\n",
       "UT      7\n",
       "TN      6\n",
       "WA      5\n",
       "MD      5\n",
       "ID      3\n",
       "NE      3\n",
       "PA      3\n",
       "MT      3\n",
       "KY      3\n",
       "FE      3\n",
       "SD      3\n",
       "OR      2\n",
       "CO      1\n",
       "WY      1\n",
       "NM      1\n",
       "CT      1\n",
       "Name: count, dtype: int64"
      ]
     },
     "execution_count": 69,
     "metadata": {},
     "output_type": "execute_result"
    }
   ],
   "source": [
    "# Texas has the most by a mile, CA has 13\n",
    "df[\"State\"].value_counts()"
   ]
  },
  {
   "cell_type": "markdown",
   "metadata": {},
   "source": [
    "### Victim Race"
   ]
  },
  {
   "cell_type": "code",
   "execution_count": 81,
   "metadata": {},
   "outputs": [
    {
     "data": {
      "text/plain": [
       "<Axes: xlabel='Victim_Race', ylabel='Count'>"
      ]
     },
     "execution_count": 81,
     "metadata": {},
     "output_type": "execute_result"
    },
    {
     "data": {
      "image/png": "[encoded data removed]",
      "text/plain": [
       "<Figure size 800x400 with 1 Axes>"
      ]
     },
     "metadata": {},
     "output_type": "display_data"
    }
   ],
   "source": [
    "plt.figure(figsize=(8, 4))\n",
    "sns.histplot(data=df, x=\"Victim_Race\")"
   ]
  },
  {
   "cell_type": "markdown",
   "metadata": {},
   "source": [
    "## Statistical Analysis"
   ]
  },
  {
   "cell_type": "markdown",
   "metadata": {},
   "source": [
    "#### How does the race of the offender affect the race of their victim?"
   ]
  },
  {
   "cell_type": "code",
   "execution_count": 82,
   "metadata": {},
   "outputs": [
    {
     "data": {
      "text/plain": [
       "<Axes: title={'center': 'Offender Race vs Victim Race'}, xlabel='Race', ylabel='Victim_Race'>"
      ]
     },
     "execution_count": 82,
     "metadata": {},
     "output_type": "execute_result"
    },
    {
     "data": {
      "image/png": "[encoded data removed]",
      "text/plain": [
       "<Figure size 640x480 with 1 Axes>"
      ]
     },
     "metadata": {},
     "output_type": "display_data"
    }
   ],
   "source": [
    "plt.title(\"Offender Race vs Victim Race\")\n",
    "\n",
    "sns.scatterplot(data=df, x=\"Race\", y=\"Victim_Race\")"
   ]
  },
  {
   "cell_type": "markdown",
   "metadata": {},
   "source": [
    "White people were killed by all races of offenders. White offenders killed the most variety of races."
   ]
  },
  {
   "cell_type": "markdown",
   "metadata": {},
   "source": [
    "#### How does someone's age affect their number of victims?"
   ]
  },
  {
   "cell_type": "code",
   "execution_count": 89,
   "metadata": {},
   "outputs": [
    {
     "data": {
      "text/plain": [
       "<Axes: title={'center': 'Offender Age vs Victim Count'}, xlabel='Age', ylabel='Victim_Count'>"
      ]
     },
     "execution_count": 89,
     "metadata": {},
     "output_type": "execute_result"
    },
    {
     "data": {
      "image/png": "[encoded data removed]",
      "text/plain": [
       "<Figure size 640x480 with 1 Axes>"
      ]
     },
     "metadata": {},
     "output_type": "display_data"
    }
   ],
   "source": [
    "plt.title(\"Offender Age vs Victim Count\")\n",
    "\n",
    "sns.scatterplot(data=df, x=\"Age\", y=\"Victim_Count\")"
   ]
  },
  {
   "cell_type": "markdown",
   "metadata": {},
   "source": [
    "Took out Timothy so the data could be better analyzed. It seems like there isn't a huge correlation between age and victim count, but in the higher victim count cases, they seem to be only present at older ages."
   ]
  }
 ],
 "metadata": {
  "kernelspec": {
   "display_name": ".venv",
   "language": "python",
   "name": "python3"
  },
  "language_info": {
   "codemirror_mode": {
    "name": "ipython",
    "version": 3
   },
   "file_extension": ".py",
   "mimetype": "text/x-python",
   "name": "python",
   "nbconvert_exporter": "python",
   "pygments_lexer": "ipython3",
   "version": "3.9.6"
  }
 },
 "nbformat": 4,
 "nbformat_minor": 2
}
